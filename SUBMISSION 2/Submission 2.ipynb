{
 "cells": [
  {
   "cell_type": "markdown",
   "metadata": {},
   "source": [
    "# <center> Group Project Sub 02 - FEATURE SELECTION AND ENGINEERING </center>"
   ]
  },
  {
   "cell_type": "markdown",
   "metadata": {},
   "source": [
    "## AUTHORS:\n",
    "### David Kwasi Nyonyo Mensah-Gbekor (mensah-gbekor@hotmail.com)\n",
    "### David Wonder Doe-Dekpey (wonderdoe85@yahoo.com)\n",
    "### Alexander Botica (alexbotica@yahoo.com)\n",
    "### Alexander Victor Okhuese (alexandervictor16@yahoo.com)\n",
    "\n",
    "### \n",
    "###   "
   ]
  },
  {
   "cell_type": "markdown",
   "metadata": {},
   "source": [
    "# TASKS\n",
    "\n",
    "1. Select at least four (4) explanatory variables and perform the necessary transformations so that they are useful in the model phase. You are encouraged to use more than four variables. Investigate feature engnineering techniques such as PCA and encoding target variables using one-hot encoding.\n",
    "\n",
    "2. Write a short paragraph about each technique investigated and show an implementation of it in a Jupyter Notebook. Make sure to include references that indicate where the ideas were sourced.\n",
    "\n",
    "3. At this stage groups should take the opportunity to familiarize themselves with the cross-validation tecniques for forecasting time series - for example, traditional k-fold cross-validation versus wald forward analysis, and Purged K-Fold CV. Write a short paragraph explaining each technique researched. Research at least three (they don't have to be the 3 mentioned here).\n"
   ]
  },
  {
   "cell_type": "markdown",
   "metadata": {},
   "source": [
    "# Solutions"
   ]
  },
  {
   "cell_type": "markdown",
   "metadata": {},
   "source": [
    "We first import the necessary python modules"
   ]
  },
  {
   "cell_type": "code",
   "execution_count": 2,
   "metadata": {},
   "outputs": [],
   "source": [
    "%matplotlib inline"
   ]
  },
  {
   "cell_type": "code",
   "execution_count": 3,
   "metadata": {},
   "outputs": [],
   "source": [
    "import os\n",
    "import datetime\n",
    "import numpy as np\n",
    "import pandas as pd\n",
    "import matplotlib.pyplot as plt\n",
    "from alpha_vantage.timeseries import TimeSeries\n",
    "from alpha_vantage.techindicators import TechIndicators\n",
    "from sklearn.model_selection import train_test_split\n",
    "from sklearn import svm"
   ]
  },
  {
   "cell_type": "markdown",
   "metadata": {},
   "source": [
    "Function needed"
   ]
  },
  {
   "cell_type": "code",
   "execution_count": 4,
   "metadata": {},
   "outputs": [],
   "source": [
    "def retrieve_data(symbol, api_key):\n",
    "    \"\"\"    Parameters\n",
    "    symbol - The stock's symbol\n",
    "    api_key - The free API key obtained from alpha vantage\n",
    "    \"\"\"\n",
    "    \n",
    "    ts = TimeSeries(key=api_key, output_format='pandas')\n",
    "    close, _ = ts.get_daily_adjusted(symbol=symbol, outputsize='full')\n",
    "    return close"
   ]
  },
  {
   "cell_type": "markdown",
   "metadata": {},
   "source": [
    "## Main Section of Code"
   ]
  },
  {
   "cell_type": "markdown",
   "metadata": {},
   "source": [
    "Below we use historical data downloaded from Alpha Vantage using pandas_datareader<br/>\n",
    "We use data of the following tickers\n",
    "1. NASDAQ100 - Target Variable\n",
    "2. S&P500\n",
    "3. NAS30(Dow Jones)"
   ]
  },
  {
   "cell_type": "code",
   "execution_count": 5,
   "metadata": {},
   "outputs": [
    {
     "name": "stderr",
     "output_type": "stream",
     "text": [
      "c:\\users\\pkay\\documents\\programming\\venvs\\machine-learning\\lib\\site-packages\\ipykernel_launcher.py:12: FutureWarning: Sorting because non-concatenation axis is not aligned. A future version\n",
      "of pandas will change to not sort by default.\n",
      "\n",
      "To accept the future behavior, pass 'sort=False'.\n",
      "\n",
      "To retain the current behavior and silence the warning, pass 'sort=True'.\n",
      "\n",
      "  if sys.path[0] == '':\n",
      "c:\\users\\pkay\\documents\\programming\\venvs\\machine-learning\\lib\\site-packages\\ipykernel_launcher.py:17: FutureWarning: Sorting because non-concatenation axis is not aligned. A future version\n",
      "of pandas will change to not sort by default.\n",
      "\n",
      "To accept the future behavior, pass 'sort=False'.\n",
      "\n",
      "To retain the current behavior and silence the warning, pass 'sort=True'.\n",
      "\n"
     ]
    }
   ],
   "source": [
    "nas_100 = 'NDX'\n",
    "sp_500 = 'SPX'\n",
    "us_30 = '.DJI'\n",
    "\n",
    "#API_KEY = os.getenv('ALPHAVANTAGE_API_KEY')  # Our API Key, retrieved form the environment variables\n",
    "API_KEY = 'XTBK2LZABR49E757'\n",
    "\n",
    "ti = TechIndicators(key=API_KEY, output_format='pandas', indexing_type='date')\n",
    "atr, _ = ti.get_atr(symbol=nas_100)\n",
    "ema, _ = ti.get_ema(symbol=nas_100, time_period=200)\n",
    "mom, _ = ti.get_mom(symbol=nas_100)\n",
    "tech_ind = pd.concat([atr, ema, mom], axis=1)\n",
    "\n",
    "ts = TimeSeries(key=API_KEY, output_format='pandas')\n",
    "nas_close = ts.get_daily_adjusted(symbol=nas_100, outputsize='full')[0]['4. close']   # compact/full\n",
    "\n",
    "data = pd.concat([tech_ind, nas_close], axis=1)"
   ]
  },
  {
   "cell_type": "code",
   "execution_count": 6,
   "metadata": {},
   "outputs": [],
   "source": [
    "sp_500_data = retrieve_data(sp_500, API_KEY)  # SP500 data"
   ]
  },
  {
   "cell_type": "code",
   "execution_count": 7,
   "metadata": {},
   "outputs": [],
   "source": [
    "us_30_data = retrieve_data(us_30, API_KEY)  # Us100 data"
   ]
  },
  {
   "cell_type": "code",
   "execution_count": 8,
   "metadata": {},
   "outputs": [
    {
     "name": "stdout",
     "output_type": "stream",
     "text": [
      "            ATR  EMA  MOM  4. close\n",
      "2000-01-03  NaN  NaN  NaN    3791.0\n",
      "2000-01-04  NaN  NaN  NaN    3546.0\n",
      "2000-01-05  NaN  NaN  NaN    3507.0\n",
      "2000-01-06  NaN  NaN  NaN    3341.0\n",
      "2000-01-07  NaN  NaN  NaN    3530.0\n"
     ]
    }
   ],
   "source": [
    "print(data.head())"
   ]
  },
  {
   "cell_type": "code",
   "execution_count": 9,
   "metadata": {},
   "outputs": [
    {
     "data": {
      "image/png": "[encoded data removed]",
      "text/plain": [
       "<Figure size 432x288 with 1 Axes>"
      ]
     },
     "metadata": {
      "needs_background": "light"
     },
     "output_type": "display_data"
    }
   ],
   "source": [
    "data.plot()\n",
    "plt.show()"
   ]
  },
  {
   "cell_type": "code",
   "execution_count": 10,
   "metadata": {},
   "outputs": [
    {
     "name": "stdout",
     "output_type": "stream",
     "text": [
      "            ATR  EMA  MOM  4. close    sp500       us_30\n",
      "2000-01-03  NaN  NaN  NaN    3791.0  1455.22  11357.5098\n",
      "2000-01-04  NaN  NaN  NaN    3546.0  1399.42  10997.9297\n",
      "2000-01-05  NaN  NaN  NaN    3507.0  1402.11  11122.6504\n",
      "2000-01-06  NaN  NaN  NaN    3341.0  1403.45  11253.2598\n",
      "2000-01-07  NaN  NaN  NaN    3530.0  1441.47  11522.5596\n"
     ]
    }
   ],
   "source": [
    "data['sp500'] = sp_500_data['4. close']\n",
    "data['us_30'] = us_30_data['4. close']\n",
    "print(data.head())"
   ]
  },
  {
   "cell_type": "markdown",
   "metadata": {},
   "source": [
    "# Feature Engineering"
   ]
  },
  {
   "cell_type": "markdown",
   "metadata": {},
   "source": [
    "## 1. Imputation"
   ]
  },
  {
   "cell_type": "markdown",
   "metadata": {},
   "source": [
    "### - Filling all missing values with 0"
   ]
  },
  {
   "cell_type": "code",
   "execution_count": null,
   "metadata": {},
   "outputs": [],
   "source": [
    "df = data.copy(deep=True)\n",
    "df.fillna(0)\n",
    "# Create two subplots sharing y axis\n",
    "fig, (ax1, ax2, ax3, ax4) = plt.subplots(4, sharey=True)\n",
    "plt.title('Data after filling missing values with 0')\n",
    "ax1.plot(df['4. close'])\n",
    "ax1.set(title='Nasdaq100 AdjClose Prices', xlabel='Price', ylabel='Date')\n",
    "\n",
    "ax2.plot(df['sp500'])\n",
    "ax2.set(title='s&p500 AdjClose Prices', xlabel='Price', ylabel='Date')\n",
    "\n",
    "ax3.plot(df['us_30'])\n",
    "ax3.set(title='us30 AdjClose Prices', xlabel='Price', ylabel='Date')\n",
    "\n",
    "ax4.plot(tech_ind)\n",
    "ax4.set(title='ATR (20) MOM (20) EMA (200)', ylabel='Date')\n",
    "\n",
    "plt.show()"
   ]
  },
  {
   "cell_type": "markdown",
   "metadata": {},
   "source": [
    "### - Filling missing values with median of the columns"
   ]
  },
  {
   "cell_type": "code",
   "execution_count": null,
   "metadata": {},
   "outputs": [],
   "source": [
    "df1 = data.copy(deep=True)\n",
    "df1.fillna(df.median)\n",
    "# Create two subplots sharing y axis\n",
    "fig, (ax1, ax2, ax3, ax4) = plt.subplots(4, sharey=True)\n",
    "plt.title('Data after filling missing values with median of the columns')\n",
    "ax1.plot(df1['4. close'])\n",
    "ax1.set(title='Nasdaq100 AdjClose Prices', xlabel='Price', ylabel='Date')\n",
    "\n",
    "ax2.plot(df1['sp500'])\n",
    "ax2.set(title='s&p500 AdjClose Prices', xlabel='Price', ylabel='Date')\n",
    "\n",
    "ax3.plot(df1['us_30'])\n",
    "ax3.set(title='us30 AdjClose Prices', xlabel='Price', ylabel='Date')\n",
    "\n",
    "ax4.plot(tech_ind)\n",
    "ax4.set(title='ATR (20) MOM (20) EMA (200)', ylabel='Date')\n",
    "\n",
    "plt.show()"
   ]
  },
  {
   "cell_type": "markdown",
   "metadata": {},
   "source": [
    "## 2. Handling Outliers"
   ]
  },
  {
   "cell_type": "markdown",
   "metadata": {},
   "source": [
    "- Outlier detection with standard deviation"
   ]
  },
  {
   "cell_type": "code",
   "execution_count": null,
   "metadata": {},
   "outputs": [],
   "source": [
    "factor = 3\n",
    "upper_lim = df['4. close'].mean() + df['4. close'].std() * factor\n",
    "lower_lim = df['4. close'].mean() - df['4. close'].std() * factor\n",
    "\n",
    "df = df[(df['4. close'] < upper_lim) & (df['4. close'] > lower_lim)]\n",
    "df['4. close'].plot()\n",
    "plt.title('Nasdaq Prices after dropping outliers with std')\n",
    "plt.show()"
   ]
  },
  {
   "cell_type": "markdown",
   "metadata": {},
   "source": [
    "-  Dropping outliers rows with Percentiles"
   ]
  },
  {
   "cell_type": "code",
   "execution_count": 15,
   "metadata": {},
   "outputs": [
    {
     "data": {
      "image/png": "[encoded data removed]",
      "text/plain": [
       "<Figure size 432x288 with 1 Axes>"
      ]
     },
     "metadata": {
      "needs_background": "light"
     },
     "output_type": "display_data"
    }
   ],
   "source": [
    "upper_lim = df['4. close'].quantile(.95)\n",
    "lower_lim = df['4. close'].quantile(.05)\n",
    "\n",
    "df = df[(df['4. close']< upper_lim) ^ (df['4. close'] > lower_lim)]\n",
    "df['4. close'].plot()\n",
    "plt.title('Nasdaq Prices after dropping outliers with percentiles')\n",
    "plt.show()"
   ]
  },
  {
   "cell_type": "markdown",
   "metadata": {},
   "source": [
    "## 3. Log Transform"
   ]
  },
  {
   "cell_type": "code",
   "execution_count": 75,
   "metadata": {},
   "outputs": [
    {
     "data": {
      "image/png": "[encoded data removed]",
      "text/plain": [
       "<Figure size 432x288 with 1 Axes>"
      ]
     },
     "metadata": {
      "needs_background": "light"
     },
     "output_type": "display_data"
    }
   ],
   "source": [
    "df['log+1'] = (df['4. close']+1).transform(np.log)\n",
    "df['log'] = (df['4. close']-df['4. close'].min()+1).transform(np.log)\n",
    "df['log+1'].plot()\n",
    "df['log'].plot()\n",
    "plt.show()"
   ]
  },
  {
   "cell_type": "markdown",
   "metadata": {},
   "source": [
    "## 4. Scaling"
   ]
  },
  {
   "cell_type": "code",
   "execution_count": 16,
   "metadata": {},
   "outputs": [
    {
     "name": "stderr",
     "output_type": "stream",
     "text": [
      "c:\\users\\pkay\\documents\\programming\\venvs\\machine-learning\\lib\\site-packages\\ipykernel_launcher.py:2: SettingWithCopyWarning: \n",
      "A value is trying to be set on a copy of a slice from a DataFrame.\n",
      "Try using .loc[row_indexer,col_indexer] = value instead\n",
      "\n",
      "See the caveats in the documentation: http://pandas.pydata.org/pandas-docs/stable/indexing.html#indexing-view-versus-copy\n",
      "  \n",
      "c:\\users\\pkay\\documents\\programming\\venvs\\machine-learning\\lib\\site-packages\\ipykernel_launcher.py:4: SettingWithCopyWarning: \n",
      "A value is trying to be set on a copy of a slice from a DataFrame.\n",
      "Try using .loc[row_indexer,col_indexer] = value instead\n",
      "\n",
      "See the caveats in the documentation: http://pandas.pydata.org/pandas-docs/stable/indexing.html#indexing-view-versus-copy\n",
      "  after removing the cwd from sys.path.\n"
     ]
    },
    {
     "data": {
      "image/png": "[encoded data removed]",
      "text/plain": [
       "<Figure size 432x288 with 1 Axes>"
      ]
     },
     "metadata": {
      "needs_background": "light"
     },
     "output_type": "display_data"
    }
   ],
   "source": [
    "#  normalization\n",
    "df['normalized'] = (df['4. close'] - df['4. close'].min()) / (df['4. close'].max() - df['4. close'].min())\n",
    "#  standardization\n",
    "df['standardized'] = (df['4. close'] - df['4. close'].mean()) / df['4. close'].std()\n",
    "df['normalized'].plot()\n",
    "df['standardized'].plot()\n",
    "plt.show()"
   ]
  },
  {
   "cell_type": "markdown",
   "metadata": {},
   "source": [
    "# Cross Validation"
   ]
  },
  {
   "cell_type": "code",
   "execution_count": null,
   "metadata": {},
   "outputs": [],
   "source": [
    "from sklearn.model_selection import cross_val_score\n",
    "train_df = df[:300]\n",
    "y = train_df['4. close']\n",
    "X = train_df.drop('4. close', axis=1)\n",
    "val_df = df[300:]\n",
    "y_val = val_df['4. close']\n",
    "X_val = val_df.drop('4. close', axis=1)"
   ]
  },
  {
   "cell_type": "code",
   "execution_count": null,
   "metadata": {},
   "outputs": [],
   "source": [
    "model = svm.SVC(gamma='scale')  # Machine Learning Model"
   ]
  },
  {
   "cell_type": "markdown",
   "metadata": {},
   "source": [
    "## 1. Hold out"
   ]
  },
  {
   "cell_type": "code",
   "execution_count": null,
   "metadata": {},
   "outputs": [],
   "source": [
    "from sklearn.model_selection import train_test_split\n",
    "X_train, X_test, y_train, y_test = train_test_split(X, y, test_size=0.30, random_state=42)\n",
    "model.fit(X_train, y_train)\n",
    "model.score(X_test, y_test)"
   ]
  },
  {
   "cell_type": "markdown",
   "metadata": {},
   "source": [
    "## 2. K-Fold"
   ]
  },
  {
   "cell_type": "code",
   "execution_count": null,
   "metadata": {},
   "outputs": [],
   "source": [
    "from sklearn.model_selection import KFold\n",
    "kf = KFold(n_splits=10)\n",
    "scores = cross_val_score(model, X_train, y_train,\n",
    " scoring=‘accurace’, cv=kf,\n",
    " n_jobs=1)\n",
    "print(‘Folds: %i, mean squared error: %.2f std: %.2f’\n",
    " %(len(scores),np.mean(np.abs(scores)),np.std(scores)))"
   ]
  },
  {
   "cell_type": "markdown",
   "metadata": {},
   "source": [
    "## 3. Leave One Out"
   ]
  },
  {
   "cell_type": "code",
   "execution_count": null,
   "metadata": {},
   "outputs": [],
   "source": [
    "from sklearn.model_selection import LeaveOneOut\n",
    "loo = LeaveOneOut()\n",
    "scores = cross_val_score(model, X_train, y_train,\n",
    " scoring=‘accuracy’, cv=loo,\n",
    " n_jobs=1)\n",
    "print(‘Folds: %i, mean squared error: %.2f std: %.2f’\n",
    " %(len(scores),np.mean(np.abs(scores)),np.std(scores)))"
   ]
  }
 ],
 "metadata": {
  "kernelspec": {
   "display_name": "Python 3",
   "language": "python",
   "name": "python3"
  },
  "language_info": {
   "codemirror_mode": {
    "name": "ipython",
    "version": 3
   },
   "file_extension": ".py",
   "mimetype": "text/x-python",
   "name": "python",
   "nbconvert_exporter": "python",
   "pygments_lexer": "ipython3",
   "version": "3.8.5"
  }
 },
 "nbformat": 4,
 "nbformat_minor": 1
}
